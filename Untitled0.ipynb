{
  "nbformat": 4,
  "nbformat_minor": 0,
  "metadata": {
    "colab": {
      "provenance": [],
      "authorship_tag": "ABX9TyOlpg5gx398TIj+JCQb0gDm",
      "include_colab_link": true
    },
    "kernelspec": {
      "name": "python3",
      "display_name": "Python 3"
    },
    "language_info": {
      "name": "python"
    }
  },
  "cells": [
    {
      "cell_type": "markdown",
      "metadata": {
        "id": "view-in-github",
        "colab_type": "text"
      },
      "source": [
        "<a href=\"https://colab.research.google.com/github/JonanthanDom/aulas-programa-colabs/blob/main/Untitled0.ipynb\" target=\"_parent\"><img src=\"https://colab.research.google.com/assets/colab-badge.svg\" alt=\"Open In Colab\"/></a>"
      ]
    },
    {
      "cell_type": "code",
      "execution_count": null,
      "metadata": {
        "id": "xiUo6DWDvhaM"
      },
      "outputs": [],
      "source": [
        "#Criar uma lista com números de 1 a 15\n",
        "numeros = []\n",
        "for num in range(16):\n",
        "  numeros.append(num)\n",
        "print(numeros)\n"
      ]
    },
    {
      "cell_type": "code",
      "source": [
        "#Para usar a biblioteca Random, é preciso importá-la\n",
        "import random\n",
        "\n",
        "#Criar uma lista com tamanho aleatório (entre 0 e 50)\n",
        "nums2 = []\n",
        "for num in range (random.randrange(0, 50)):\n",
        "  nums2.append(num)\n",
        "nums2"
      ],
      "metadata": {
        "id": "CAcBaZviwLQU"
      },
      "execution_count": null,
      "outputs": []
    },
    {
      "cell_type": "code",
      "source": [
        "#Descobir de um número é par ou impar\n",
        "a = int(input('Digite um número: '))\n",
        "if a%2 == 0:\n",
        "  print(a, 'é par')\n",
        "else:\n",
        "    print(a, 'é impar')"
      ],
      "metadata": {
        "id": "TIIwJ00_y32z"
      },
      "execution_count": null,
      "outputs": []
    },
    {
      "cell_type": "code",
      "source": [
        "#Printar os numeros pares até 50\n",
        "numPares=[]\n",
        "for num in range(51):\n",
        "  if(num % 2 == 0):\n",
        "    numPares.append(num)\n",
        "print(numPares)\n",
        "\n"
      ],
      "metadata": {
        "id": "XwvcJPAX04bL"
      },
      "execution_count": null,
      "outputs": []
    },
    {
      "cell_type": "code",
      "source": [
        "#Retorne a soma dos números de 1 a 100\n",
        "soma = 0\n",
        "for n in range(101):\n",
        "  soma = soma+n\n",
        "print(soma)"
      ],
      "metadata": {
        "id": "WDnQDlzs3ehl"
      },
      "execution_count": null,
      "outputs": []
    },
    {
      "cell_type": "code",
      "source": [
        "#criar um programa que lista os números de 1 a 10\n",
        "##Precisamos criar um contador\n",
        "cont = 0\n",
        "while (cont < 10):\n",
        "  print(cont  + 1)\n",
        "  cont+=1"
      ],
      "metadata": {
        "id": "LPOirCyX8kDj"
      },
      "execution_count": null,
      "outputs": []
    },
    {
      "cell_type": "code",
      "source": [
        "#Pede ao ussuário para inserir um número inteiro maior que 1\n",
        "##O programa deve imprimir todos os números até o número digitado\n",
        "cont = 0\n",
        "a = int(input('Digite um número maior que 1: '))\n",
        "while (cont < a):\n",
        "  cont+=1\n",
        "  print(cont)"
      ],
      "metadata": {
        "id": "jZdwxRAm-Qkk"
      },
      "execution_count": null,
      "outputs": []
    },
    {
      "cell_type": "code",
      "source": [
        "#Crie uma lista de compras, qunado digitar '0' encerra  lista\n",
        "\n",
        "compras = []\n",
        "item =input('Próximo item: ')\n",
        "\n",
        "while(item != '0'):\n",
        "  compras.append(item)\n",
        "  item =input('Próximo item: ')\n",
        "print(compras)\n"
      ],
      "metadata": {
        "id": "mixZNvGjCOFM"
      },
      "execution_count": null,
      "outputs": []
    }
  ]
}