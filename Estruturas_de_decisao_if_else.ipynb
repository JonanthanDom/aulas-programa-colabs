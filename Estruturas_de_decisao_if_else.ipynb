{
  "nbformat": 4,
  "nbformat_minor": 0,
  "metadata": {
    "colab": {
      "provenance": [],
      "authorship_tag": "ABX9TyPrpmU42YVoNDbcGl7brvOB",
      "include_colab_link": true
    },
    "kernelspec": {
      "name": "python3",
      "display_name": "Python 3"
    },
    "language_info": {
      "name": "python"
    }
  },
  "cells": [
    {
      "cell_type": "markdown",
      "metadata": {
        "id": "view-in-github",
        "colab_type": "text"
      },
      "source": [
        "<a href=\"https://colab.research.google.com/github/JonanthanDom/aulas-programa-colabs/blob/main/Estruturas_de_decisao_if_else.ipynb\" target=\"_parent\"><img src=\"https://colab.research.google.com/assets/colab-badge.svg\" alt=\"Open In Colab\"/></a>"
      ]
    },
    {
      "cell_type": "code",
      "execution_count": null,
      "metadata": {
        "id": "bPM4U43kqCEw"
      },
      "outputs": [],
      "source": [
        "#idade \n",
        "anoNascimento = int(input('Digite seu ano de nasciento'))\n",
        "print('Sua idade é:', 2023 - anoNascimento)"
      ]
    },
    {
      "cell_type": "code",
      "source": [
        "#imc\n",
        "altura = float(input('Qual sua altura? '))\n",
        "peso = float(input('Qual o seu peso? '))\n",
        "print('Seu IMC é: ', peso/altura**2)"
      ],
      "metadata": {
        "id": "xKIVvpA1qOUa"
      },
      "execution_count": null,
      "outputs": []
    },
    {
      "cell_type": "code",
      "source": [
        "#verificar se o número é par\n",
        "num = int(input('Digite o número: '))\n",
        "if(num%2 == 0):\n",
        "  print('O número é par!')\n",
        "else:\n",
        "  print('O número é impar!!!')"
      ],
      "metadata": {
        "id": "aYhuYesHscUG"
      },
      "execution_count": null,
      "outputs": []
    },
    {
      "cell_type": "code",
      "source": [
        "#Em um campeonato de MMA, tem 3 categorias por peso:\n",
        "#Galo: até 70kg\n",
        "#médio: até 80kg\n",
        "#Meio pesado: até 90kg\n",
        "peso = float(input('Digite o peso '))\n",
        "if(peso <= 70):\n",
        "  print('Galo')\n",
        "elif(peso <= 80):\n",
        "  print('Médio')\n",
        "else:\n",
        "  print('Meio pesado')"
      ],
      "metadata": {
        "id": "Hxlu5gaCz1Zs"
      },
      "execution_count": null,
      "outputs": []
    },
    {
      "cell_type": "code",
      "source": [
        "#exercício IMC\n",
        "altura = float(input('Qual sua altura? '))\n",
        "peso = float(input('Qual o seu peso? '))\n",
        "imc = peso/altura**2\n",
        "print('Seu IMC é: ', round(imc, 2))\n",
        "if(imc < 20):\n",
        "  print('Abaixo do peso normal')\n",
        "elif(imc < 25):\n",
        "  print('Peso normal')\n",
        "elif(imc < 30):\n",
        "  print('Excesso de peso')\n",
        "elif(imc < 35):\n",
        "  print('Obesidade classe I')\n",
        "elif(imc < 40):\n",
        "  print('Obesidade classe II')\n",
        "else:\n",
        "  print('Obesidade classe III')"
      ],
      "metadata": {
        "id": "Td1DkqB81D0D"
      },
      "execution_count": null,
      "outputs": []
    },
    {
      "cell_type": "code",
      "source": [
        "# tipos booleanos\n",
        "print(100 == (50+50)) #igualdade\n",
        "print(100 >= (50+50)) #maior ou igual\n",
        "print(100 > (50+50)) #é igual, não maior\n",
        "print(100 != (50+50)) #é igual e não negação"
      ],
      "metadata": {
        "id": "rsc9CGgMo37Q"
      },
      "execution_count": null,
      "outputs": []
    },
    {
      "cell_type": "code",
      "source": [
        "# Se for do sexo feminino \"F\" e tiver 55 anos ou mais, pode se aposentar\n",
        "# Se for do sex masculino \"F\" e tiver 60 anos ou mais, pode se apodentar\n",
        "\n",
        "sexo = input('insira o sexo: m (masculino) ou f (feminino)')\n",
        "idade = int(input('Insira a idade: '))\n",
        "if((sexo == 'f' and idade >= 55) or (sexo == 'm' and idade >= 60)):\n",
        "  print('Pode se aposentar')\n",
        "else:\n",
        "  print('Ainda não pode')"
      ],
      "metadata": {
        "id": "KuoLoDEhpmJS"
      },
      "execution_count": null,
      "outputs": []
    },
    {
      "cell_type": "code",
      "source": [
        "#Solicita três numeros A, B e C.\n",
        "#Imprima na tela se A+B é menor que C.\n",
        " \n",
        "a = int(input('Digite o número A: '))\n",
        "b = int(input('Digite o número B: '))\n",
        "c = int(input('Digite o número C: '))\n",
        "if(a + b < c):\n",
        "  print('é menor')\n",
        "else:\n",
        "  print('Não é menor')"
      ],
      "metadata": {
        "id": "fYzV7LF6v6ON"
      },
      "execution_count": null,
      "outputs": []
    },
    {
      "cell_type": "code",
      "source": [
        "#Recebe dois valores inteiros e mostra qual o maior\n",
        "a = int(input('Qual o primeiro número? '))\n",
        "b = int(input('Qual o segundo número? '))\n",
        "if(a > b):\n",
        "  print(a ,  'é maior que ' ,  b)\n",
        "else:\n",
        "  print(a , 'é menor que ' , b)"
      ],
      "metadata": {
        "id": "vORAxQRayXO8"
      },
      "execution_count": null,
      "outputs": []
    }
  ]
}