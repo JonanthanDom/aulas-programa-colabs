{
  "nbformat": 4,
  "nbformat_minor": 0,
  "metadata": {
    "colab": {
      "provenance": [],
      "authorship_tag": "ABX9TyPkWmmxr78zoMKoEX5ikGer",
      "include_colab_link": true
    },
    "kernelspec": {
      "name": "python3",
      "display_name": "Python 3"
    },
    "language_info": {
      "name": "python"
    }
  },
  "cells": [
    {
      "cell_type": "markdown",
      "metadata": {
        "id": "view-in-github",
        "colab_type": "text"
      },
      "source": [
        "<a href=\"https://colab.research.google.com/github/JonanthanDom/aulas-programa-colabs/blob/main/aula%2030032023.ipynb\" target=\"_parent\"><img src=\"https://colab.research.google.com/assets/colab-badge.svg\" alt=\"Open In Colab\"/></a>"
      ]
    },
    {
      "cell_type": "code",
      "execution_count": null,
      "metadata": {
        "id": "bPM4U43kqCEw"
      },
      "outputs": [],
      "source": [
        "#idade \n",
        "anoNascimento = int(input('Digite seu ano de nasciento'))\n",
        "print('Sua idade é:', 2023 - anoNascimento)"
      ]
    },
    {
      "cell_type": "code",
      "source": [
        "#imc\n",
        "altura = float(input('Qual sua altura? '))\n",
        "peso = float(input('Qual o seu peso? '))\n",
        "print('Seu IMC é: ', peso/altura**2)"
      ],
      "metadata": {
        "id": "xKIVvpA1qOUa"
      },
      "execution_count": null,
      "outputs": []
    },
    {
      "cell_type": "code",
      "source": [
        "#verificar se o número é par\n",
        "num = int(input('Digite o número: '))\n",
        "if(num%2 == 0):\n",
        "  print('O número é par!')\n",
        "else:\n",
        "  print('O número é impar!!!')"
      ],
      "metadata": {
        "id": "aYhuYesHscUG"
      },
      "execution_count": null,
      "outputs": []
    },
    {
      "cell_type": "code",
      "source": [
        "#Em um campeonato de MMA, tem 3 categorias por peso:\n",
        "#Galo: até 70kg\n",
        "#médio: até 80kg\n",
        "#Meio pesado: até 90kg\n",
        "peso = float(input('Digite o peso '))\n",
        "if(peso <= 70):\n",
        "  print('Galo')\n",
        "elif(peso <= 80):\n",
        "  print('Médio')\n",
        "else:\n",
        "  print('Meio pesado')"
      ],
      "metadata": {
        "id": "Hxlu5gaCz1Zs"
      },
      "execution_count": null,
      "outputs": []
    },
    {
      "cell_type": "code",
      "source": [
        "#exercício IMC\n",
        "altura = float(input('Qual sua altura? '))\n",
        "peso = float(input('Qual o seu peso? '))\n",
        "imc = peso/altura**2\n",
        "print('Seu IMC é: ', round(imc, 2))\n",
        "if(imc < 20):\n",
        "  print('Abaixo do peso normal')\n",
        "elif(imc < 25):\n",
        "  print('Peso normal')\n",
        "elif(imc < 30):\n",
        "  print('Excesso de peso')\n",
        "elif(imc < 35):\n",
        "  print('Obesidade classe I')\n",
        "elif(imc < 40):\n",
        "  print('Obesidade classe II')\n",
        "else:\n",
        "  print('Obesidade classe III')"
      ],
      "metadata": {
        "id": "Td1DkqB81D0D"
      },
      "execution_count": null,
      "outputs": []
    },
    {
      "cell_type": "code",
      "source": [
        "# tipos booleanos\n",
        "print(100 == (50+50)) #igualdade\n",
        "print(100 >= (50+50)) #maior ou igual\n",
        "print(100 > (50+50)) #é igual, não maior\n",
        "print(100 != (50+50)) #é igual e não negação"
      ],
      "metadata": {
        "id": "rsc9CGgMo37Q"
      },
      "execution_count": null,
      "outputs": []
    },
    {
      "cell_type": "code",
      "source": [
        "# Se for do sexo feminino \"F\" e tiver 55 anos ou mais, pode se aposentar\n",
        "# Se for do sex masculino \"F\" e tiver 60 anos ou mais, pode se apodentar\n",
        "\n",
        "sexo = input('insira o sexo: m (masculino) ou f (feminino)')\n",
        "idade = int(input('Insira a idade: '))\n",
        "if((sexo == 'f' and idade >= 55) or (sexo == 'm' and idade >= 60)):\n",
        "  print('Pode se aposentar')\n",
        "else:\n",
        "  print('Ainda não pode')"
      ],
      "metadata": {
        "id": "KuoLoDEhpmJS"
      },
      "execution_count": null,
      "outputs": []
    },
    {
      "cell_type": "code",
      "source": [
        "#Solicita três numeros A, B e C.\n",
        "#Imprima na tela se A+B é menor que C.\n",
        " \n",
        "a = int(input('Digite o número A: '))\n",
        "b = int(input('Digite o número B: '))\n",
        "c = int(input('Digite o número C: '))\n",
        "if(a + b < c):\n",
        "  print('é menor')\n",
        "else:\n",
        "  print('Não é menor')"
      ],
      "metadata": {
        "id": "fYzV7LF6v6ON"
      },
      "execution_count": null,
      "outputs": []
    },
    {
      "cell_type": "code",
      "source": [
        "#Recebe dois valores inteiros e mostra qual o maior\n",
        "a = int(input('Qual o primeiro número? '))\n",
        "b = int(input('Qual o segundo número? '))\n",
        "if(a > b):\n",
        "  print(a ,  'é maior que ' ,  b)\n",
        "else:\n",
        "  print(a , 'é menor que ' , b)"
      ],
      "metadata": {
        "id": "vORAxQRayXO8"
      },
      "execution_count": null,
      "outputs": []
    },
    {
      "cell_type": "code",
      "source": [
        "#listas são estruturas de dados formadas por elementos de um mesmo tipo\n",
        "numeros = [10, 20,  30, 40, 50]\n",
        "print(numeros)"
      ],
      "metadata": {
        "id": "F0IPsc4U61Zh"
      },
      "execution_count": null,
      "outputs": []
    },
    {
      "cell_type": "code",
      "source": [
        "#descobrir o tamanho da lista\n",
        "len(numeros)"
      ],
      "metadata": {
        "id": "baXTMz3P7yKM"
      },
      "execution_count": null,
      "outputs": []
    },
    {
      "cell_type": "code",
      "source": [
        "#Indices\n",
        "#o indice sempre começa na posição 0\n",
        "print(numeros[1])"
      ],
      "metadata": {
        "id": "5JfYTfRi76pk"
      },
      "execution_count": null,
      "outputs": []
    },
    {
      "cell_type": "code",
      "source": [
        "#lisas de outros tipos\n",
        "alunos = ['Mariana' , 'Luiz' , 'Higor' , 'Enzo' , 'Valentina']\n",
        "print(alunos)\n"
      ],
      "metadata": {
        "id": "wG5VyY-p83UY"
      },
      "execution_count": null,
      "outputs": []
    },
    {
      "cell_type": "code",
      "source": [
        "#alterar valores de itens de lista\n",
        "alunos[3] = 'Ivan'\n",
        "print(alunos)"
      ],
      "metadata": {
        "id": "u9mzgUy--YYS"
      },
      "execution_count": null,
      "outputs": []
    },
    {
      "cell_type": "code",
      "source": [
        "#Inserir valores na lista usar .append()\n",
        "alunos.append('Aderbal')\n",
        "print(alunos)"
      ],
      "metadata": {
        "id": "7F4xkOFa_FQS"
      },
      "execution_count": null,
      "outputs": []
    },
    {
      "cell_type": "code",
      "source": [
        "#inserir via teclado\n",
        "alunos.append(input('Digite o nome '))"
      ],
      "metadata": {
        "colab": {
          "base_uri": "https://localhost:8080/"
        },
        "id": "iEN2EK1Z_Wo2",
        "outputId": "d943790b-ed8b-4c21-f02f-44c5bc77d6e4"
      },
      "execution_count": 34,
      "outputs": [
        {
          "name": "stdout",
          "output_type": "stream",
          "text": [
            "Digite o nome Karol\n"
          ]
        }
      ]
    },
    {
      "cell_type": "code",
      "source": [
        "print(alunos)"
      ],
      "metadata": {
        "colab": {
          "base_uri": "https://localhost:8080/"
        },
        "id": "C98cstgm_zmN",
        "outputId": "b1881bb7-340d-4692-9d07-e17a86e12c0d"
      },
      "execution_count": 35,
      "outputs": [
        {
          "output_type": "stream",
          "name": "stdout",
          "text": [
            "['Mariana', 'Luiz', 'Higor', 'Ivan', 'Valentina', 'Aderbal', 'Maria', 'Karol']\n"
          ]
        }
      ]
    },
    {
      "cell_type": "code",
      "source": [
        "#remover ultimo da lista .pop()\n",
        "alunos.pop()\n",
        "print(alunos)"
      ],
      "metadata": {
        "colab": {
          "base_uri": "https://localhost:8080/"
        },
        "id": "gRtuDc_QAPpw",
        "outputId": "7501a076-0b18-4aa7-fc75-7fa4064017ae"
      },
      "execution_count": 43,
      "outputs": [
        {
          "output_type": "stream",
          "name": "stdout",
          "text": [
            "[]\n"
          ]
        }
      ]
    },
    {
      "cell_type": "code",
      "source": [
        "alunos.append(input('Digite o nome:'))"
      ],
      "metadata": {
        "colab": {
          "base_uri": "https://localhost:8080/"
        },
        "id": "LulwDCHDAavN",
        "outputId": "d6bb1980-6126-457b-9333-f0ad74b94090"
      },
      "execution_count": 49,
      "outputs": [
        {
          "name": "stdout",
          "output_type": "stream",
          "text": [
            "Digite o nome:Marcos\n"
          ]
        }
      ]
    },
    {
      "cell_type": "code",
      "source": [
        "print(alunos)"
      ],
      "metadata": {
        "colab": {
          "base_uri": "https://localhost:8080/"
        },
        "id": "DQCKP0KMAq-d",
        "outputId": "62bde25d-a6b4-46a8-f47a-41b608e66329"
      },
      "execution_count": 50,
      "outputs": [
        {
          "output_type": "stream",
          "name": "stdout",
          "text": [
            "['Higor', 'Ramon', 'Aderbal', 'Carlos', 'Marcos']\n"
          ]
        }
      ]
    },
    {
      "cell_type": "code",
      "source": [
        "#Descobrir se há valor determinado na lista e exibir sua posição\n",
        "if 'Carlos' in alunos:\n",
        "  print('tem sim')\n",
        "else:\n",
        "  print('tem não')"
      ],
      "metadata": {
        "colab": {
          "base_uri": "https://localhost:8080/"
        },
        "id": "mhOsQlocBEXn",
        "outputId": "d95a2db1-50ea-48b5-9e5b-e6b499643ca3"
      },
      "execution_count": 51,
      "outputs": [
        {
          "output_type": "stream",
          "name": "stdout",
          "text": [
            "tem sim\n"
          ]
        }
      ]
    }
  ]
}